{
 "cells": [
  {
   "cell_type": "code",
   "execution_count": null,
   "metadata": {
    "collapsed": true
   },
   "outputs": [],
   "source": [
    "import os\n",
    "import os.path\n",
    "import time\n",
    "output_file = open('output.xml', 'wb')\n",
    "output_file.write('<ArticleSet> \\n')\n",
    "for root, subdirs, files in os.walk(\"unparseable\"):\n",
    "    for file in files: \n",
    "        file_ref = open(root + '/' + file, 'r')\n",
    "        output_file.write('<Article> \\n ')\n",
    "        output_file.write('<article-id> \\n')\n",
    "        output_file.write(str(file) + '\\n')\n",
    "        output_file.write('</article-id>\\n<text>\\n')\n",
    "        text = file_ref.read()\n",
    "        if('==== Refs' not in text):\n",
    "            output_file.write(text)\n",
    "        else:\n",
    "            output_file.write(text[0:text.index('==== Refs')])\n",
    "        output_file.write('\\n</text>\\n')\n",
    "        output_file.write('</Article>')\n",
    "output_file.write('</ArticleSet>')"
   ]
  }
 ],
 "metadata": {
  "kernelspec": {
   "display_name": "Python 2",
   "language": "python",
   "name": "python2"
  },
  "language_info": {
   "codemirror_mode": {
    "name": "ipython",
    "version": 2
   },
   "file_extension": ".py",
   "mimetype": "text/x-python",
   "name": "python",
   "nbconvert_exporter": "python",
   "pygments_lexer": "ipython2",
   "version": "2.7.9"
  }
 },
 "nbformat": 4,
 "nbformat_minor": 2
}
